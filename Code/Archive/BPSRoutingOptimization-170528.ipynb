{
 "cells": [
  {
   "cell_type": "markdown",
   "metadata": {},
   "source": [
    "# BPS Bus Route Optimization"
   ]
  },
  {
   "cell_type": "markdown",
   "metadata": {},
   "source": [
    "### Problem Statement\n",
    "The Boston Public Schools has released an RFP seeking to find a solution to optimize their strategy for student transportation to and from school. \n",
    "\n",
    "From BPS: \"In [2016], transportation costs accounted for \\$110 million or 11% of the district’s budget. On a per pupil basis, BPS’s transportation cost is the second highest and more than five times the average of the largest 200 public school districts.\"\n",
    "\n",
    "In order to make their transporation network more efficient and potentially less costly, BPS has posed the following two challenges.\n",
    "\n",
    "#### Step 1: Optimize Bus Stop Locations \n",
    "\n",
    "We are working to consolidate bus stops to increase efficiency and decrease student ride time, while also ensuring that students are able to walk safely and quickly to a nearby bus stop. Based on where students live, their destination schools, and the type of service required (i.e. Corner Stop, Door to Door, Wheelchair) how will you assign students to a stop?\n",
    "\n",
    "#### Step 2: Improve Routing Efficiencies\n",
    "\n",
    "We are working to get all students to school as quickly as possible in time for the start of the day. Given the location of bus stops, how would you connect these stops to schools over the course of a day creating a full route for a bus that starts and ends at a given bus yard? How will you account for different types of services required (Corner Stop, Door to Door, Wheelchair)?\"\n",
    "\n"
   ]
  },
  {
   "cell_type": "markdown",
   "metadata": {},
   "source": [
    "### Outcome\n",
    "The expected outcome of this project is a modeled system of a minimized number of bus stops and routes that provide efficient transportation for every student to and from school. The system will be measured by comparison to the baseline of the existing BPS transportation system as described below:\n",
    "\n",
    "Scenario | # of required busses |Service hours | Service miles\n",
    "---| ---| ---\n",
    "current BPS system | 630 | 3,600 | 44,500"
   ]
  },
  {
   "cell_type": "markdown",
   "metadata": {},
   "source": [
    "### Approach\n",
    "\n",
    "1. Data Visualization and Exploration: I will start by visualizing the dsitribution of students across Boston using the mapping libraries\n",
    "2. Bus Stop Optimization: I hypothesize that by reducing the number of bus stops, the number of service hours will reduce, creating a more efficient system. In order to model this, I will look to highly dense areas and students' maximum walking distance to see if any walking radii overlap. If a student's max walking distance overlaps with that of another student, there is a potential for stops to be combined.In order to measure this, I will need to compare my model's stop count to that of the current BPS system.\n",
    "3. Once I have a list of optimized bus stops for each student, I will need to model the bus routes taken in order to serve each student. To model this, I will look to various algorithms to solve what is commonly known as the 'Traveling Salesman Problem\n",
    "4. "
   ]
  },
  {
   "cell_type": "markdown",
   "metadata": {},
   "source": [
    "### The Data\\*\n",
    "\n",
    "BPS has made available a dataset capturing information for 90 schools and nearly 5000 students. The feautres included in the dataset are as follows:\n",
    "\n",
    "Variable | Description | Type of Variable\n",
    "---| ---| ---\n",
    "Street Number | House number of student | continuous integer\n",
    "Street Name |  Name of the street on which the student lives | categorical string\n",
    "Zip Code | Zip Code in which the student lives | categorical integer \n",
    "Latitude | Geodetic coordinate system in decimal degrees | continuous float\n",
    "Longitude | Geodetic coordinate system in decimal degrees | continuous float\n",
    "Pickup Type | Corner or Door-to-Door | categorical string\n",
    "Grade | Grade of the student | categorical integer\n",
    "Geocode | BPS tracks various neighborhoods by census ‘geocodes’ which we use to analyze student neighborhoods | continuous integer\n",
    "Neighborhood Safety Score | Based on amount of reported violent crime in neighborhood -- 7 = high level and 1 represents a low level | categorical integer\n",
    "MaxWalk | Maximum distance student should walk to a stop. Actual walking distance along a common path. Each student will have specific max walking distance based on their grade and rates of reported crime within neighborhood | continuous float\n",
    "Assigned School | School student is required to be transported to and from each day | categorical string\n",
    "Current School Start | Arrive at school between 10-15 minutes before the start of school. While the bus needs to arrive 10-15 minutes before the start of school, the bus should plan to leave at the start of school. This allows time for buses to unload and builds in “recovery time” to account for unexpected delays on the route | time\n",
    "Current School End | Time between school start time and school end time is the length of the school day for that school. Assume all students go home at the end of the day (i.e., they attend no after school activities). As detailed in Appendix 1: Rules of the Road buses should arrive by the school’s end time and leave no later than 15 minutes afterward | time\n",
    "School Address | Full address of school | categorical string\n",
    "School Lat | Geodetic coordinate system in decimal degrees | continuous float\n",
    "School Long | Geodetic coordinate system in decimal degrees | continuous float\n"
   ]
  },
  {
   "cell_type": "markdown",
   "metadata": {},
   "source": [
    "\\* The data provided by BPS is not acutal student information. In order to protect students' safety and privay the data provided by the BPS is only representative of student information."
   ]
  },
  {
   "cell_type": "markdown",
   "metadata": {},
   "source": [
    "### Initial Setup and Package Import"
   ]
  },
  {
   "cell_type": "code",
   "execution_count": 1,
   "metadata": {
    "collapsed": false
   },
   "outputs": [
    {
     "name": "stderr",
     "output_type": "stream",
     "text": [
      "/anaconda/envs/py27/lib/python2.7/site-packages/statsmodels/compat/pandas.py:56: FutureWarning: The pandas.core.datetools module is deprecated and will be removed in a future version. Please use the pandas.tseries module instead.\n",
      "  from pandas.core import datetools\n"
     ]
    }
   ],
   "source": [
    "from __future__ import print_function\n",
    "\n",
    "import matplotlib.pyplot as plt\n",
    "import matplotlib.cm\n",
    "from mpl_toolkits.basemap import Basemap\n",
    "from matplotlib.patches import Polygon\n",
    "from matplotlib.collections import PatchCollection\n",
    "from matplotlib.colors import Normalize\n",
    "\n",
    "import numpy as np\n",
    "import pandas as pd\n",
    "from scipy import stats\n",
    "import seaborn as sns\n",
    "import statsmodels.api as sm\n",
    "from sklearn import metrics\n",
    "import sklearn as sk\n",
    "\n",
    "import warnings\n",
    "warnings.filterwarnings(\"ignore\")\n",
    "\n",
    "%matplotlib inline"
   ]
  },
  {
   "cell_type": "markdown",
   "metadata": {},
   "source": [
    "Load Data"
   ]
  },
  {
   "cell_type": "markdown",
   "metadata": {},
   "source": [
    "Student Information"
   ]
  },
  {
   "cell_type": "code",
   "execution_count": 2,
   "metadata": {
    "collapsed": false
   },
   "outputs": [],
   "source": [
    "df = pd.read_csv('https://raw.githubusercontent.com/tylershannon/BPS-BusRouteOptimization/master/Data/BPS-StudentInformation.csv')"
   ]
  },
  {
   "cell_type": "markdown",
   "metadata": {},
   "source": [
    "Bus Information"
   ]
  },
  {
   "cell_type": "code",
   "execution_count": 3,
   "metadata": {
    "collapsed": true
   },
   "outputs": [],
   "source": [
    "df_busyards = pd.read_csv('https://raw.githubusercontent.com/tylershannon/BPS-BusRouteOptimization/master/Data/BPS-BusYards.csv')"
   ]
  },
  {
   "cell_type": "markdown",
   "metadata": {},
   "source": [
    "# 1 - Data Visualization and Exploration"
   ]
  },
  {
   "cell_type": "markdown",
   "metadata": {},
   "source": [
    "Display data"
   ]
  },
  {
   "cell_type": "code",
   "execution_count": 4,
   "metadata": {
    "collapsed": false
   },
   "outputs": [
    {
     "data": {
      "text/html": [
       "<div>\n",
       "<style>\n",
       "    .dataframe thead tr:only-child th {\n",
       "        text-align: right;\n",
       "    }\n",
       "\n",
       "    .dataframe thead th {\n",
       "        text-align: left;\n",
       "    }\n",
       "\n",
       "    .dataframe tbody tr th {\n",
       "        vertical-align: top;\n",
       "    }\n",
       "</style>\n",
       "<table border=\"1\" class=\"dataframe\">\n",
       "  <thead>\n",
       "    <tr style=\"text-align: right;\">\n",
       "      <th></th>\n",
       "      <th>StreetNum</th>\n",
       "      <th>StreetName</th>\n",
       "      <th>ZipCode</th>\n",
       "      <th>Lat</th>\n",
       "      <th>Long</th>\n",
       "      <th>PickupType</th>\n",
       "      <th>Grade</th>\n",
       "      <th>Geocode</th>\n",
       "      <th>NeighborhoodSafetyScore</th>\n",
       "      <th>MaxWalk</th>\n",
       "      <th>AssignedSchool</th>\n",
       "      <th>CurrentSchoolStart</th>\n",
       "      <th>CurrentSchoolEnd</th>\n",
       "      <th>SchoolAddress</th>\n",
       "      <th>SchoolLat</th>\n",
       "      <th>SchoolLong</th>\n",
       "    </tr>\n",
       "  </thead>\n",
       "  <tbody>\n",
       "    <tr>\n",
       "      <th>0</th>\n",
       "      <td>1</td>\n",
       "      <td>CLAREMONT PK</td>\n",
       "      <td>2118</td>\n",
       "      <td>42.342049</td>\n",
       "      <td>-71.080765</td>\n",
       "      <td>Corner</td>\n",
       "      <td>3</td>\n",
       "      <td>25025070800</td>\n",
       "      <td>3</td>\n",
       "      <td>0.5</td>\n",
       "      <td>Johnny Pesky School</td>\n",
       "      <td>8:30:00 AM</td>\n",
       "      <td>4:00:00 PM</td>\n",
       "      <td>236 Beech St, 02131</td>\n",
       "      <td>42.281233</td>\n",
       "      <td>-71.141075</td>\n",
       "    </tr>\n",
       "    <tr>\n",
       "      <th>1</th>\n",
       "      <td>1</td>\n",
       "      <td>DUNFORD ST</td>\n",
       "      <td>2119</td>\n",
       "      <td>42.317420</td>\n",
       "      <td>-71.094550</td>\n",
       "      <td>Corner</td>\n",
       "      <td>1</td>\n",
       "      <td>25025081500</td>\n",
       "      <td>5</td>\n",
       "      <td>0.4</td>\n",
       "      <td>Tris Speaker School</td>\n",
       "      <td>7:30:00 AM</td>\n",
       "      <td>2:10:00 PM</td>\n",
       "      <td>40 Pershing Rd, 02130</td>\n",
       "      <td>42.318999</td>\n",
       "      <td>-71.114084</td>\n",
       "    </tr>\n",
       "    <tr>\n",
       "      <th>2</th>\n",
       "      <td>1</td>\n",
       "      <td>ORGAN PARK ST</td>\n",
       "      <td>2131</td>\n",
       "      <td>42.288240</td>\n",
       "      <td>-71.113130</td>\n",
       "      <td>D2D</td>\n",
       "      <td>6</td>\n",
       "      <td>25025110301</td>\n",
       "      <td>4</td>\n",
       "      <td>0.5</td>\n",
       "      <td>John Gorman School</td>\n",
       "      <td>8:30:00 AM</td>\n",
       "      <td>4:00:00 PM</td>\n",
       "      <td>110 Beachview Rd, 02128</td>\n",
       "      <td>42.391629</td>\n",
       "      <td>-71.005053</td>\n",
       "    </tr>\n",
       "    <tr>\n",
       "      <th>3</th>\n",
       "      <td>2295</td>\n",
       "      <td>CENTRE ST</td>\n",
       "      <td>2132</td>\n",
       "      <td>42.271750</td>\n",
       "      <td>-71.161770</td>\n",
       "      <td>Corner</td>\n",
       "      <td>1</td>\n",
       "      <td>25025130402</td>\n",
       "      <td>2</td>\n",
       "      <td>0.4</td>\n",
       "      <td>Roger Clemens School</td>\n",
       "      <td>7:30:00 AM</td>\n",
       "      <td>3:00:00 PM</td>\n",
       "      <td>200 Heath St, 02130</td>\n",
       "      <td>42.326009</td>\n",
       "      <td>-71.106552</td>\n",
       "    </tr>\n",
       "    <tr>\n",
       "      <th>4</th>\n",
       "      <td>1</td>\n",
       "      <td>WESTINGHOUSE PZ</td>\n",
       "      <td>2136</td>\n",
       "      <td>42.359400</td>\n",
       "      <td>-71.058700</td>\n",
       "      <td>D2D</td>\n",
       "      <td>4</td>\n",
       "      <td>25025030300</td>\n",
       "      <td>7</td>\n",
       "      <td>0.3</td>\n",
       "      <td>Joe Dobson School</td>\n",
       "      <td>8:30:00 AM</td>\n",
       "      <td>4:00:00 PM</td>\n",
       "      <td>61 School St, 02119</td>\n",
       "      <td>42.313946</td>\n",
       "      <td>-71.097867</td>\n",
       "    </tr>\n",
       "  </tbody>\n",
       "</table>\n",
       "</div>"
      ],
      "text/plain": [
       "   StreetNum       StreetName  ZipCode        Lat       Long PickupType  \\\n",
       "0          1     CLAREMONT PK     2118  42.342049 -71.080765     Corner   \n",
       "1          1       DUNFORD ST     2119  42.317420 -71.094550     Corner   \n",
       "2          1    ORGAN PARK ST     2131  42.288240 -71.113130        D2D   \n",
       "3       2295        CENTRE ST     2132  42.271750 -71.161770     Corner   \n",
       "4          1  WESTINGHOUSE PZ     2136  42.359400 -71.058700        D2D   \n",
       "\n",
       "   Grade      Geocode  NeighborhoodSafetyScore  MaxWalk        AssignedSchool  \\\n",
       "0      3  25025070800                        3      0.5   Johnny Pesky School   \n",
       "1      1  25025081500                        5      0.4   Tris Speaker School   \n",
       "2      6  25025110301                        4      0.5    John Gorman School   \n",
       "3      1  25025130402                        2      0.4  Roger Clemens School   \n",
       "4      4  25025030300                        7      0.3     Joe Dobson School   \n",
       "\n",
       "  CurrentSchoolStart CurrentSchoolEnd            SchoolAddress  SchoolLat  \\\n",
       "0         8:30:00 AM       4:00:00 PM      236 Beech St, 02131  42.281233   \n",
       "1         7:30:00 AM       2:10:00 PM    40 Pershing Rd, 02130  42.318999   \n",
       "2         8:30:00 AM       4:00:00 PM  110 Beachview Rd, 02128  42.391629   \n",
       "3         7:30:00 AM       3:00:00 PM      200 Heath St, 02130  42.326009   \n",
       "4         8:30:00 AM       4:00:00 PM      61 School St, 02119  42.313946   \n",
       "\n",
       "   SchoolLong  \n",
       "0  -71.141075  \n",
       "1  -71.114084  \n",
       "2  -71.005053  \n",
       "3  -71.106552  \n",
       "4  -71.097867  "
      ]
     },
     "execution_count": 4,
     "metadata": {},
     "output_type": "execute_result"
    }
   ],
   "source": [
    "df.head()"
   ]
  },
  {
   "cell_type": "markdown",
   "metadata": {},
   "source": [
    "Make new feature for flexability of stop location based on type of bus stop"
   ]
  },
  {
   "cell_type": "code",
   "execution_count": 5,
   "metadata": {
    "collapsed": false
   },
   "outputs": [],
   "source": [
    "df['StopFlex'] = 0.0\n",
    "\n",
    "for i in range(len(df.PickupType)):\n",
    "    if df.PickupType[i] == 'Corner':\n",
    "        df.StopFlex[i] = df.MaxWalk[i]"
   ]
  },
  {
   "cell_type": "code",
   "execution_count": 6,
   "metadata": {
    "collapsed": false
   },
   "outputs": [
    {
     "data": {
      "text/html": [
       "<div>\n",
       "<style>\n",
       "    .dataframe thead tr:only-child th {\n",
       "        text-align: right;\n",
       "    }\n",
       "\n",
       "    .dataframe thead th {\n",
       "        text-align: left;\n",
       "    }\n",
       "\n",
       "    .dataframe tbody tr th {\n",
       "        vertical-align: top;\n",
       "    }\n",
       "</style>\n",
       "<table border=\"1\" class=\"dataframe\">\n",
       "  <thead>\n",
       "    <tr style=\"text-align: right;\">\n",
       "      <th></th>\n",
       "      <th>StreetNum</th>\n",
       "      <th>StreetName</th>\n",
       "      <th>ZipCode</th>\n",
       "      <th>Lat</th>\n",
       "      <th>Long</th>\n",
       "      <th>PickupType</th>\n",
       "      <th>Grade</th>\n",
       "      <th>Geocode</th>\n",
       "      <th>NeighborhoodSafetyScore</th>\n",
       "      <th>MaxWalk</th>\n",
       "      <th>AssignedSchool</th>\n",
       "      <th>CurrentSchoolStart</th>\n",
       "      <th>CurrentSchoolEnd</th>\n",
       "      <th>SchoolAddress</th>\n",
       "      <th>SchoolLat</th>\n",
       "      <th>SchoolLong</th>\n",
       "      <th>StopFlex</th>\n",
       "    </tr>\n",
       "  </thead>\n",
       "  <tbody>\n",
       "    <tr>\n",
       "      <th>0</th>\n",
       "      <td>1</td>\n",
       "      <td>CLAREMONT PK</td>\n",
       "      <td>2118</td>\n",
       "      <td>42.342049</td>\n",
       "      <td>-71.080765</td>\n",
       "      <td>Corner</td>\n",
       "      <td>3</td>\n",
       "      <td>25025070800</td>\n",
       "      <td>3</td>\n",
       "      <td>0.5</td>\n",
       "      <td>Johnny Pesky School</td>\n",
       "      <td>8:30:00 AM</td>\n",
       "      <td>4:00:00 PM</td>\n",
       "      <td>236 Beech St, 02131</td>\n",
       "      <td>42.281233</td>\n",
       "      <td>-71.141075</td>\n",
       "      <td>0.5</td>\n",
       "    </tr>\n",
       "    <tr>\n",
       "      <th>1</th>\n",
       "      <td>1</td>\n",
       "      <td>DUNFORD ST</td>\n",
       "      <td>2119</td>\n",
       "      <td>42.317420</td>\n",
       "      <td>-71.094550</td>\n",
       "      <td>Corner</td>\n",
       "      <td>1</td>\n",
       "      <td>25025081500</td>\n",
       "      <td>5</td>\n",
       "      <td>0.4</td>\n",
       "      <td>Tris Speaker School</td>\n",
       "      <td>7:30:00 AM</td>\n",
       "      <td>2:10:00 PM</td>\n",
       "      <td>40 Pershing Rd, 02130</td>\n",
       "      <td>42.318999</td>\n",
       "      <td>-71.114084</td>\n",
       "      <td>0.4</td>\n",
       "    </tr>\n",
       "    <tr>\n",
       "      <th>2</th>\n",
       "      <td>1</td>\n",
       "      <td>ORGAN PARK ST</td>\n",
       "      <td>2131</td>\n",
       "      <td>42.288240</td>\n",
       "      <td>-71.113130</td>\n",
       "      <td>D2D</td>\n",
       "      <td>6</td>\n",
       "      <td>25025110301</td>\n",
       "      <td>4</td>\n",
       "      <td>0.5</td>\n",
       "      <td>John Gorman School</td>\n",
       "      <td>8:30:00 AM</td>\n",
       "      <td>4:00:00 PM</td>\n",
       "      <td>110 Beachview Rd, 02128</td>\n",
       "      <td>42.391629</td>\n",
       "      <td>-71.005053</td>\n",
       "      <td>0.0</td>\n",
       "    </tr>\n",
       "    <tr>\n",
       "      <th>3</th>\n",
       "      <td>2295</td>\n",
       "      <td>CENTRE ST</td>\n",
       "      <td>2132</td>\n",
       "      <td>42.271750</td>\n",
       "      <td>-71.161770</td>\n",
       "      <td>Corner</td>\n",
       "      <td>1</td>\n",
       "      <td>25025130402</td>\n",
       "      <td>2</td>\n",
       "      <td>0.4</td>\n",
       "      <td>Roger Clemens School</td>\n",
       "      <td>7:30:00 AM</td>\n",
       "      <td>3:00:00 PM</td>\n",
       "      <td>200 Heath St, 02130</td>\n",
       "      <td>42.326009</td>\n",
       "      <td>-71.106552</td>\n",
       "      <td>0.4</td>\n",
       "    </tr>\n",
       "    <tr>\n",
       "      <th>4</th>\n",
       "      <td>1</td>\n",
       "      <td>WESTINGHOUSE PZ</td>\n",
       "      <td>2136</td>\n",
       "      <td>42.359400</td>\n",
       "      <td>-71.058700</td>\n",
       "      <td>D2D</td>\n",
       "      <td>4</td>\n",
       "      <td>25025030300</td>\n",
       "      <td>7</td>\n",
       "      <td>0.3</td>\n",
       "      <td>Joe Dobson School</td>\n",
       "      <td>8:30:00 AM</td>\n",
       "      <td>4:00:00 PM</td>\n",
       "      <td>61 School St, 02119</td>\n",
       "      <td>42.313946</td>\n",
       "      <td>-71.097867</td>\n",
       "      <td>0.0</td>\n",
       "    </tr>\n",
       "  </tbody>\n",
       "</table>\n",
       "</div>"
      ],
      "text/plain": [
       "   StreetNum       StreetName  ZipCode        Lat       Long PickupType  \\\n",
       "0          1     CLAREMONT PK     2118  42.342049 -71.080765     Corner   \n",
       "1          1       DUNFORD ST     2119  42.317420 -71.094550     Corner   \n",
       "2          1    ORGAN PARK ST     2131  42.288240 -71.113130        D2D   \n",
       "3       2295        CENTRE ST     2132  42.271750 -71.161770     Corner   \n",
       "4          1  WESTINGHOUSE PZ     2136  42.359400 -71.058700        D2D   \n",
       "\n",
       "   Grade      Geocode  NeighborhoodSafetyScore  MaxWalk        AssignedSchool  \\\n",
       "0      3  25025070800                        3      0.5   Johnny Pesky School   \n",
       "1      1  25025081500                        5      0.4   Tris Speaker School   \n",
       "2      6  25025110301                        4      0.5    John Gorman School   \n",
       "3      1  25025130402                        2      0.4  Roger Clemens School   \n",
       "4      4  25025030300                        7      0.3     Joe Dobson School   \n",
       "\n",
       "  CurrentSchoolStart CurrentSchoolEnd            SchoolAddress  SchoolLat  \\\n",
       "0         8:30:00 AM       4:00:00 PM      236 Beech St, 02131  42.281233   \n",
       "1         7:30:00 AM       2:10:00 PM    40 Pershing Rd, 02130  42.318999   \n",
       "2         8:30:00 AM       4:00:00 PM  110 Beachview Rd, 02128  42.391629   \n",
       "3         7:30:00 AM       3:00:00 PM      200 Heath St, 02130  42.326009   \n",
       "4         8:30:00 AM       4:00:00 PM      61 School St, 02119  42.313946   \n",
       "\n",
       "   SchoolLong  StopFlex  \n",
       "0  -71.141075       0.5  \n",
       "1  -71.114084       0.4  \n",
       "2  -71.005053       0.0  \n",
       "3  -71.106552       0.4  \n",
       "4  -71.097867       0.0  "
      ]
     },
     "execution_count": 6,
     "metadata": {},
     "output_type": "execute_result"
    }
   ],
   "source": [
    "df.head()"
   ]
  },
  {
   "cell_type": "markdown",
   "metadata": {},
   "source": [
    "### Import vincenty which is a method for measuring on an oblate spheroid (earth)"
   ]
  },
  {
   "cell_type": "code",
   "execution_count": 7,
   "metadata": {
    "collapsed": true
   },
   "outputs": [],
   "source": [
    "from geopy.distance import vincenty"
   ]
  },
  {
   "cell_type": "code",
   "execution_count": 8,
   "metadata": {
    "collapsed": false
   },
   "outputs": [],
   "source": [
    "df2 = df.copy(deep=True)\n",
    "df2 = df2[['Lat', 'Long','StopFlex']]"
   ]
  },
  {
   "cell_type": "markdown",
   "metadata": {},
   "source": [
    "### Iterate through students and cluster into new bus stops based on each students allowable walking distance"
   ]
  },
  {
   "cell_type": "code",
   "execution_count": 9,
   "metadata": {
    "collapsed": false
   },
   "outputs": [
    {
     "data": {
      "text/html": [
       "<div>\n",
       "<style>\n",
       "    .dataframe thead tr:only-child th {\n",
       "        text-align: right;\n",
       "    }\n",
       "\n",
       "    .dataframe thead th {\n",
       "        text-align: left;\n",
       "    }\n",
       "\n",
       "    .dataframe tbody tr th {\n",
       "        vertical-align: top;\n",
       "    }\n",
       "</style>\n",
       "<table border=\"1\" class=\"dataframe\">\n",
       "  <thead>\n",
       "    <tr style=\"text-align: right;\">\n",
       "      <th></th>\n",
       "      <th>Lat</th>\n",
       "      <th>Long</th>\n",
       "      <th>StopFlex</th>\n",
       "      <th>NewLat</th>\n",
       "      <th>NewLong</th>\n",
       "    </tr>\n",
       "  </thead>\n",
       "  <tbody>\n",
       "    <tr>\n",
       "      <th>0</th>\n",
       "      <td>42.342049</td>\n",
       "      <td>-71.080765</td>\n",
       "      <td>0.5</td>\n",
       "      <td>NaN</td>\n",
       "      <td>NaN</td>\n",
       "    </tr>\n",
       "    <tr>\n",
       "      <th>1</th>\n",
       "      <td>42.317420</td>\n",
       "      <td>-71.094550</td>\n",
       "      <td>0.4</td>\n",
       "      <td>NaN</td>\n",
       "      <td>NaN</td>\n",
       "    </tr>\n",
       "    <tr>\n",
       "      <th>2</th>\n",
       "      <td>42.288240</td>\n",
       "      <td>-71.113130</td>\n",
       "      <td>0.0</td>\n",
       "      <td>NaN</td>\n",
       "      <td>NaN</td>\n",
       "    </tr>\n",
       "    <tr>\n",
       "      <th>3</th>\n",
       "      <td>42.271750</td>\n",
       "      <td>-71.161770</td>\n",
       "      <td>0.4</td>\n",
       "      <td>NaN</td>\n",
       "      <td>NaN</td>\n",
       "    </tr>\n",
       "    <tr>\n",
       "      <th>4</th>\n",
       "      <td>42.359400</td>\n",
       "      <td>-71.058700</td>\n",
       "      <td>0.0</td>\n",
       "      <td>NaN</td>\n",
       "      <td>NaN</td>\n",
       "    </tr>\n",
       "  </tbody>\n",
       "</table>\n",
       "</div>"
      ],
      "text/plain": [
       "         Lat       Long  StopFlex NewLat NewLong\n",
       "0  42.342049 -71.080765       0.5    NaN     NaN\n",
       "1  42.317420 -71.094550       0.4    NaN     NaN\n",
       "2  42.288240 -71.113130       0.0    NaN     NaN\n",
       "3  42.271750 -71.161770       0.4    NaN     NaN\n",
       "4  42.359400 -71.058700       0.0    NaN     NaN"
      ]
     },
     "execution_count": 9,
     "metadata": {},
     "output_type": "execute_result"
    }
   ],
   "source": [
    "df2['NewLat']= 'NaN'\n",
    "df2['NewLong'] = 'NaN'\n",
    "df2.head()"
   ]
  },
  {
   "cell_type": "code",
   "execution_count": null,
   "metadata": {
    "collapsed": false
   },
   "outputs": [],
   "source": [
    "r = len(df2) #range len(df2)\n",
    "for i in range(r):\n",
    "    if df2.NewLat[i] == 'NaN' and df2.StopFlex[i] == 0:\n",
    "        base_coord = df2.Lat[i], df2.Long[i]\n",
    "        for p in range(r):\n",
    "            test_coord = df2.Lat[p], df2.Long[p]\n",
    "            test_dist = vincenty(base_coord, test_coord).miles\n",
    "            if test_dist <= df2.StopFlex[p]:\n",
    "                df2.NewLat[p] = df2.Lat[i]\n",
    "                df2.NewLong[p] = df2.Long[i]\n",
    "for i in range(r):\n",
    "    if df2.NewLat[i] == 'NaN':\n",
    "        base_coord = df2.Lat[i], df2.Long[i]\n",
    "        for p in range(r):\n",
    "            test_coord = df2.Lat[p], df2.Long[p]\n",
    "            test_dist = vincenty(base_coord, test_coord).miles\n",
    "            if test_dist <= df2.StopFlex[p]:\n",
    "                df2.NewLat[p] = df2.Lat[i]\n",
    "                df2.NewLong[p] = df2.Long[i]\n",
    "                \n",
    "df2.head()"
   ]
  },
  {
   "cell_type": "code",
   "execution_count": null,
   "metadata": {
    "collapsed": false
   },
   "outputs": [],
   "source": [
    "print('Assigned', len(df2), 'students to',  len(df2.StopLocation.value_counts()), 'stops')"
   ]
  },
  {
   "cell_type": "code",
   "execution_count": null,
   "metadata": {
    "collapsed": false
   },
   "outputs": [],
   "source": [
    "fig, ax = plt.subplots(figsize=[20, 20])\n",
    "#plot optimized stops\n",
    "opt_scatter = ax.scatter(df2['NewLong'], df2['NewLat'], c='#0087ff', edgecolor='None', alpha=0.5, s=100)\n",
    "#plot full set\n",
    "df_scatter = ax.scatter(df2['Long'], df2['Lat'], c='#ffffff', alpha=0.3, s=5)\n",
    "#plot options\n",
    "ax.set_title('Full Data Set vs Optimized Bus Stop Locations for the %s' %SchoolToShow)\n",
    "ax.set_xlabel('Longitude')\n",
    "ax.set_ylabel('Latitude')\n",
    "ax.legend([df_scatter, opt_scatter, school_scatter, bus_scatter], ['Full set', 'Consolidated Stops', 'School Location', 'Bus Yard Location'], loc='upper left')\n",
    "ax.set_axis_bgcolor('#212121')\n",
    "ax.grid(color = '#212121') #474747\n",
    "plt.show()"
   ]
  },
  {
   "cell_type": "code",
   "execution_count": 581,
   "metadata": {
    "collapsed": false
   },
   "outputs": [
    {
     "data": {
      "text/html": [
       "<div>\n",
       "<style>\n",
       "    .dataframe thead tr:only-child th {\n",
       "        text-align: right;\n",
       "    }\n",
       "\n",
       "    .dataframe thead th {\n",
       "        text-align: left;\n",
       "    }\n",
       "\n",
       "    .dataframe tbody tr th {\n",
       "        vertical-align: top;\n",
       "    }\n",
       "</style>\n",
       "<table border=\"1\" class=\"dataframe\">\n",
       "  <thead>\n",
       "    <tr style=\"text-align: right;\">\n",
       "      <th></th>\n",
       "      <th>StreetNum</th>\n",
       "      <th>StreetName</th>\n",
       "      <th>ZipCode</th>\n",
       "      <th>Lat</th>\n",
       "      <th>Long</th>\n",
       "      <th>PickupType</th>\n",
       "      <th>Grade</th>\n",
       "      <th>Geocode</th>\n",
       "      <th>NeighborhoodSafetyScore</th>\n",
       "      <th>MaxWalk</th>\n",
       "      <th>AssignedSchool</th>\n",
       "      <th>CurrentSchoolStart</th>\n",
       "      <th>CurrentSchoolEnd</th>\n",
       "      <th>SchoolAddress</th>\n",
       "      <th>SchoolLat</th>\n",
       "      <th>SchoolLong</th>\n",
       "      <th>StopFlex</th>\n",
       "      <th>NewLat</th>\n",
       "      <th>NewLong</th>\n",
       "    </tr>\n",
       "  </thead>\n",
       "  <tbody>\n",
       "    <tr>\n",
       "      <th>0</th>\n",
       "      <td>1</td>\n",
       "      <td>CLAREMONT PK</td>\n",
       "      <td>2118</td>\n",
       "      <td>42.342049</td>\n",
       "      <td>-71.080765</td>\n",
       "      <td>Corner</td>\n",
       "      <td>3</td>\n",
       "      <td>25025070800</td>\n",
       "      <td>3</td>\n",
       "      <td>0.5</td>\n",
       "      <td>Johnny Pesky School</td>\n",
       "      <td>8:30:00 AM</td>\n",
       "      <td>4:00:00 PM</td>\n",
       "      <td>236 Beech St, 02131</td>\n",
       "      <td>42.281233</td>\n",
       "      <td>-71.141075</td>\n",
       "      <td>0.5</td>\n",
       "      <td>42.3374</td>\n",
       "      <td>-71.0752</td>\n",
       "    </tr>\n",
       "    <tr>\n",
       "      <th>1</th>\n",
       "      <td>1</td>\n",
       "      <td>DUNFORD ST</td>\n",
       "      <td>2119</td>\n",
       "      <td>42.317420</td>\n",
       "      <td>-71.094550</td>\n",
       "      <td>Corner</td>\n",
       "      <td>1</td>\n",
       "      <td>25025081500</td>\n",
       "      <td>5</td>\n",
       "      <td>0.4</td>\n",
       "      <td>Tris Speaker School</td>\n",
       "      <td>7:30:00 AM</td>\n",
       "      <td>2:10:00 PM</td>\n",
       "      <td>40 Pershing Rd, 02130</td>\n",
       "      <td>42.318999</td>\n",
       "      <td>-71.114084</td>\n",
       "      <td>0.4</td>\n",
       "      <td>42.3145</td>\n",
       "      <td>-71.0942</td>\n",
       "    </tr>\n",
       "    <tr>\n",
       "      <th>2</th>\n",
       "      <td>1</td>\n",
       "      <td>ORGAN PARK ST</td>\n",
       "      <td>2131</td>\n",
       "      <td>42.288240</td>\n",
       "      <td>-71.113130</td>\n",
       "      <td>D2D</td>\n",
       "      <td>6</td>\n",
       "      <td>25025110301</td>\n",
       "      <td>4</td>\n",
       "      <td>0.5</td>\n",
       "      <td>John Gorman School</td>\n",
       "      <td>8:30:00 AM</td>\n",
       "      <td>4:00:00 PM</td>\n",
       "      <td>110 Beachview Rd, 02128</td>\n",
       "      <td>42.391629</td>\n",
       "      <td>-71.005053</td>\n",
       "      <td>0.0</td>\n",
       "      <td>42.2882</td>\n",
       "      <td>-71.1131</td>\n",
       "    </tr>\n",
       "    <tr>\n",
       "      <th>3</th>\n",
       "      <td>2295</td>\n",
       "      <td>CENTRE ST</td>\n",
       "      <td>2132</td>\n",
       "      <td>42.271750</td>\n",
       "      <td>-71.161770</td>\n",
       "      <td>Corner</td>\n",
       "      <td>1</td>\n",
       "      <td>25025130402</td>\n",
       "      <td>2</td>\n",
       "      <td>0.4</td>\n",
       "      <td>Roger Clemens School</td>\n",
       "      <td>7:30:00 AM</td>\n",
       "      <td>3:00:00 PM</td>\n",
       "      <td>200 Heath St, 02130</td>\n",
       "      <td>42.326009</td>\n",
       "      <td>-71.106552</td>\n",
       "      <td>0.4</td>\n",
       "      <td>42.2692</td>\n",
       "      <td>-71.1666</td>\n",
       "    </tr>\n",
       "    <tr>\n",
       "      <th>4</th>\n",
       "      <td>1</td>\n",
       "      <td>WESTINGHOUSE PZ</td>\n",
       "      <td>2136</td>\n",
       "      <td>42.359400</td>\n",
       "      <td>-71.058700</td>\n",
       "      <td>D2D</td>\n",
       "      <td>4</td>\n",
       "      <td>25025030300</td>\n",
       "      <td>7</td>\n",
       "      <td>0.3</td>\n",
       "      <td>Joe Dobson School</td>\n",
       "      <td>8:30:00 AM</td>\n",
       "      <td>4:00:00 PM</td>\n",
       "      <td>61 School St, 02119</td>\n",
       "      <td>42.313946</td>\n",
       "      <td>-71.097867</td>\n",
       "      <td>0.0</td>\n",
       "      <td>42.3594</td>\n",
       "      <td>-71.0587</td>\n",
       "    </tr>\n",
       "  </tbody>\n",
       "</table>\n",
       "</div>"
      ],
      "text/plain": [
       "   StreetNum       StreetName  ZipCode        Lat       Long PickupType  \\\n",
       "0          1     CLAREMONT PK     2118  42.342049 -71.080765     Corner   \n",
       "1          1       DUNFORD ST     2119  42.317420 -71.094550     Corner   \n",
       "2          1    ORGAN PARK ST     2131  42.288240 -71.113130        D2D   \n",
       "3       2295        CENTRE ST     2132  42.271750 -71.161770     Corner   \n",
       "4          1  WESTINGHOUSE PZ     2136  42.359400 -71.058700        D2D   \n",
       "\n",
       "   Grade      Geocode  NeighborhoodSafetyScore  MaxWalk        AssignedSchool  \\\n",
       "0      3  25025070800                        3      0.5   Johnny Pesky School   \n",
       "1      1  25025081500                        5      0.4   Tris Speaker School   \n",
       "2      6  25025110301                        4      0.5    John Gorman School   \n",
       "3      1  25025130402                        2      0.4  Roger Clemens School   \n",
       "4      4  25025030300                        7      0.3     Joe Dobson School   \n",
       "\n",
       "  CurrentSchoolStart CurrentSchoolEnd            SchoolAddress  SchoolLat  \\\n",
       "0         8:30:00 AM       4:00:00 PM      236 Beech St, 02131  42.281233   \n",
       "1         7:30:00 AM       2:10:00 PM    40 Pershing Rd, 02130  42.318999   \n",
       "2         8:30:00 AM       4:00:00 PM  110 Beachview Rd, 02128  42.391629   \n",
       "3         7:30:00 AM       3:00:00 PM      200 Heath St, 02130  42.326009   \n",
       "4         8:30:00 AM       4:00:00 PM      61 School St, 02119  42.313946   \n",
       "\n",
       "   SchoolLong  StopFlex   NewLat  NewLong  \n",
       "0  -71.141075       0.5  42.3374 -71.0752  \n",
       "1  -71.114084       0.4  42.3145 -71.0942  \n",
       "2  -71.005053       0.0  42.2882 -71.1131  \n",
       "3  -71.106552       0.4  42.2692 -71.1666  \n",
       "4  -71.097867       0.0  42.3594 -71.0587  "
      ]
     },
     "execution_count": 581,
     "metadata": {},
     "output_type": "execute_result"
    }
   ],
   "source": [
    "df['NewLat']= df2.NewLat\n",
    "df['NewLong'] = df2.NewLong\n",
    "df.head()"
   ]
  },
  {
   "cell_type": "code",
   "execution_count": 786,
   "metadata": {
    "collapsed": true
   },
   "outputs": [],
   "source": [
    "#df.to_csv('../Data/StopDataModified.csv')"
   ]
  },
  {
   "cell_type": "code",
   "execution_count": 343,
   "metadata": {
    "collapsed": false
   },
   "outputs": [
    {
     "data": {
      "text/html": [
       "<div>\n",
       "<style>\n",
       "    .dataframe thead tr:only-child th {\n",
       "        text-align: right;\n",
       "    }\n",
       "\n",
       "    .dataframe thead th {\n",
       "        text-align: left;\n",
       "    }\n",
       "\n",
       "    .dataframe tbody tr th {\n",
       "        vertical-align: top;\n",
       "    }\n",
       "</style>\n",
       "<table border=\"1\" class=\"dataframe\">\n",
       "  <thead>\n",
       "    <tr style=\"text-align: right;\">\n",
       "      <th></th>\n",
       "      <th>Bus Number</th>\n",
       "      <th>Bus Yard</th>\n",
       "      <th>Bus Type</th>\n",
       "      <th>Bus Yard Address</th>\n",
       "      <th>Bus Yard Latitude</th>\n",
       "      <th>Bus Yard Longitude</th>\n",
       "    </tr>\n",
       "  </thead>\n",
       "  <tbody>\n",
       "    <tr>\n",
       "      <th>0</th>\n",
       "      <td>B286</td>\n",
       "      <td>Frpt</td>\n",
       "      <td>Full</td>\n",
       "      <td>2000 Washington Street, Boston, MA, 02119</td>\n",
       "      <td>42.333189</td>\n",
       "      <td>-71.080309</td>\n",
       "    </tr>\n",
       "    <tr>\n",
       "      <th>1</th>\n",
       "      <td>B287</td>\n",
       "      <td>Frpt</td>\n",
       "      <td>Full</td>\n",
       "      <td>2000 Washington Street, Boston, MA, 02119</td>\n",
       "      <td>42.333189</td>\n",
       "      <td>-71.080309</td>\n",
       "    </tr>\n",
       "    <tr>\n",
       "      <th>2</th>\n",
       "      <td>B288</td>\n",
       "      <td>Frpt</td>\n",
       "      <td>Full</td>\n",
       "      <td>2000 Washington Street, Boston, MA, 02119</td>\n",
       "      <td>42.333189</td>\n",
       "      <td>-71.080309</td>\n",
       "    </tr>\n",
       "    <tr>\n",
       "      <th>3</th>\n",
       "      <td>B289</td>\n",
       "      <td>Frpt</td>\n",
       "      <td>Full</td>\n",
       "      <td>2000 Washington Street, Boston, MA, 02119</td>\n",
       "      <td>42.333189</td>\n",
       "      <td>-71.080309</td>\n",
       "    </tr>\n",
       "    <tr>\n",
       "      <th>4</th>\n",
       "      <td>B290</td>\n",
       "      <td>Frpt</td>\n",
       "      <td>Full</td>\n",
       "      <td>2000 Washington Street, Boston, MA, 02119</td>\n",
       "      <td>42.333189</td>\n",
       "      <td>-71.080309</td>\n",
       "    </tr>\n",
       "  </tbody>\n",
       "</table>\n",
       "</div>"
      ],
      "text/plain": [
       "  Bus Number Bus Yard Bus Type                           Bus Yard Address  \\\n",
       "0       B286     Frpt     Full  2000 Washington Street, Boston, MA, 02119   \n",
       "1       B287     Frpt     Full  2000 Washington Street, Boston, MA, 02119   \n",
       "2       B288     Frpt     Full  2000 Washington Street, Boston, MA, 02119   \n",
       "3       B289     Frpt     Full  2000 Washington Street, Boston, MA, 02119   \n",
       "4       B290     Frpt     Full  2000 Washington Street, Boston, MA, 02119   \n",
       "\n",
       "   Bus Yard Latitude  Bus Yard Longitude  \n",
       "0          42.333189          -71.080309  \n",
       "1          42.333189          -71.080309  \n",
       "2          42.333189          -71.080309  \n",
       "3          42.333189          -71.080309  \n",
       "4          42.333189          -71.080309  "
      ]
     },
     "execution_count": 343,
     "metadata": {},
     "output_type": "execute_result"
    }
   ],
   "source": [
    "df_busyards.head()"
   ]
  },
  {
   "cell_type": "code",
   "execution_count": 189,
   "metadata": {
    "collapsed": false
   },
   "outputs": [],
   "source": [
    "bus_yard_long = df_busyards['Bus Yard Longitude'].unique()\n",
    "bus_yard_lat = df_busyards['Bus Yard Latitude'].unique()"
   ]
  },
  {
   "cell_type": "markdown",
   "metadata": {},
   "source": [
    "### Visualize bus stop locations servicing one school"
   ]
  },
  {
   "cell_type": "code",
   "execution_count": 829,
   "metadata": {
    "collapsed": false
   },
   "outputs": [
    {
     "data": {
      "image/png": "[encoded data removed]",
      "text/plain": [
       "<matplotlib.figure.Figure at 0x1180c7110>"
      ]
     },
     "metadata": {},
     "output_type": "display_data"
    }
   ],
   "source": [
    "fig, ax = plt.subplots(figsize=[20, 20])\n",
    "\n",
    "SchoolToShow = 'Reggie Smith School'\n",
    "\n",
    "#plot optimized stops serving one school\n",
    "opt_scatter = ax.scatter(df.loc[df['AssignedSchool'] == SchoolToShow].NewLong, \n",
    "                         df.loc[df['AssignedSchool'] == SchoolToShow].NewLat,\n",
    "                         c='#0087ff', edgecolor='None', alpha=1, s=100)\n",
    "\n",
    "#plot full set\n",
    "df_scatter = ax.scatter(df2['Long'], df2['Lat'], c='#ffffff', alpha=0.3, s=5)\n",
    "\n",
    "#plot location of bus yard location\n",
    "bus_scatter = ax.scatter(bus_yard_long, \n",
    "                        bus_yard_lat,\n",
    "                        c='#82b1ff', alpha=0.9, marker = '$Bus$', s=600)\n",
    "\n",
    "#plot location of school\n",
    "school_scatter = ax.scatter(df.loc[df['AssignedSchool'] == SchoolToShow].SchoolLong, \n",
    "                        df.loc[df['AssignedSchool'] == SchoolToShow].SchoolLat,\n",
    "                        c='#82b1ff', alpha=0.9, marker = '$School$', s=1500)\n",
    "\n",
    "#plot options\n",
    "ax.set_title('Full Data Set vs Optimized Bus Stop Locations for the %s' %SchoolToShow)\n",
    "ax.set_xlabel('Longitude')\n",
    "ax.set_ylabel('Latitude')\n",
    "ax.legend([df_scatter, opt_scatter, school_scatter, bus_scatter], ['Full set', 'Consolidated Stops', 'School Location', 'Bus Yard Location'], loc='upper left')\n",
    "ax.set_axis_bgcolor('#212121')\n",
    "ax.grid(color = '#474747')\n",
    "plt.show()"
   ]
  },
  {
   "cell_type": "code",
   "execution_count": 272,
   "metadata": {
    "collapsed": false
   },
   "outputs": [
    {
     "data": {
      "text/html": [
       "<div>\n",
       "<style>\n",
       "    .dataframe thead tr:only-child th {\n",
       "        text-align: right;\n",
       "    }\n",
       "\n",
       "    .dataframe thead th {\n",
       "        text-align: left;\n",
       "    }\n",
       "\n",
       "    .dataframe tbody tr th {\n",
       "        vertical-align: top;\n",
       "    }\n",
       "</style>\n",
       "<table border=\"1\" class=\"dataframe\">\n",
       "  <thead>\n",
       "    <tr style=\"text-align: right;\">\n",
       "      <th></th>\n",
       "      <th>Bus Yard Latitude</th>\n",
       "      <th>Bus Yard Longitude</th>\n",
       "    </tr>\n",
       "  </thead>\n",
       "  <tbody>\n",
       "    <tr>\n",
       "      <th>0</th>\n",
       "      <td>42.333189</td>\n",
       "      <td>-71.080309</td>\n",
       "    </tr>\n",
       "    <tr>\n",
       "      <th>1</th>\n",
       "      <td>42.307069</td>\n",
       "      <td>-71.057577</td>\n",
       "    </tr>\n",
       "    <tr>\n",
       "      <th>2</th>\n",
       "      <td>42.237390</td>\n",
       "      <td>-71.139795</td>\n",
       "    </tr>\n",
       "    <tr>\n",
       "      <th>3</th>\n",
       "      <td>42.382205</td>\n",
       "      <td>-71.075801</td>\n",
       "    </tr>\n",
       "  </tbody>\n",
       "</table>\n",
       "</div>"
      ],
      "text/plain": [
       "   Bus Yard Latitude  Bus Yard Longitude\n",
       "0          42.333189          -71.080309\n",
       "1          42.307069          -71.057577\n",
       "2          42.237390          -71.139795\n",
       "3          42.382205          -71.075801"
      ]
     },
     "execution_count": 272,
     "metadata": {},
     "output_type": "execute_result"
    }
   ],
   "source": [
    "df_bus = df_busyards.copy(deep=True)\n",
    "df_bus.drop_duplicates(subset = 'Bus Yard Address', inplace = True)\n",
    "df_bus.drop(df_bus.columns[0:4], axis = 1, inplace = True)\n",
    "df_bus.reset_index(inplace = True)\n",
    "df_bus.drop(df_bus.columns[0], axis = 1, inplace = True)\n",
    "df_bus"
   ]
  },
  {
   "cell_type": "markdown",
   "metadata": {},
   "source": [
    "# Traveling Salesman Problem"
   ]
  },
  {
   "cell_type": "markdown",
   "metadata": {},
   "source": [
    "### Setup variables and node lists"
   ]
  },
  {
   "cell_type": "markdown",
   "metadata": {},
   "source": [
    "### TSP - Traveling to stops sequentially through list"
   ]
  },
  {
   "cell_type": "code",
   "execution_count": 796,
   "metadata": {
    "collapsed": false
   },
   "outputs": [
    {
     "name": "stdout",
     "output_type": "stream",
     "text": [
      "Route distance working sequentially through list of stops is 230.26 miles\n"
     ]
    }
   ],
   "source": [
    "\n",
    "#-----------------------setup---------------------------\n",
    "unchecked_nodes_lat = df.loc[df['AssignedSchool'] == SchoolToShow].NewLat.astype(float)\n",
    "unchecked_nodes_long = df.loc[df['AssignedSchool'] == SchoolToShow].NewLong.astype(float)\n",
    "index = nodes_lat.index\n",
    "\n",
    "#node list: 0 = index and 1 = latitude and 2 = longitude\n",
    "unchecked_nodes = map(lambda i, a, b: [i, a, b], index, unchecked_nodes_lat, unchecked_nodes_long)\n",
    "node_start = [0, df_bus['Bus Yard Latitude'][0], df_bus['Bus Yard Longitude'][0]]\n",
    "node_end = [0, df.loc[df['AssignedSchool'] == SchoolToShow].SchoolLat[index[0]], df.loc[df['AssignedSchool'] == SchoolToShow].SchoolLong[index[0]]]\n",
    "current_node = node_start\n",
    "dist = 0.0\n",
    "checked_nodes = []\n",
    "\n",
    "#-----------------------test---------------------------\n",
    "\n",
    "for i in range(len(unchecked_nodes)-1):\n",
    "    while unchecked_nodes:\n",
    "        base_coord = current_node[1], current_node[2]\n",
    "        test_coord = unchecked_nodes[i][1], unchecked_nodes[i][2]\n",
    "        dist = dist + vincenty(base_coord, test_coord).miles\n",
    "        current_node = unchecked_nodes[i]\n",
    "        checked_nodes.append(unchecked_nodes[i])\n",
    "        unchecked_nodes.pop(i)\n",
    "base_coord = checked_nodes[-1][1], checked_nodes[-1][2]\n",
    "test_coord = node_end[1], node_end[2]\n",
    "dist = dist + vincenty(base_coord, test_coord).miles\n",
    "print('Route distance working sequentially through list of stops is %0.2f miles' %dist)           "
   ]
  },
  {
   "cell_type": "code",
   "execution_count": 790,
   "metadata": {
    "collapsed": false
   },
   "outputs": [],
   "source": [
    "'''\n",
    "random_tsp_route = pd.DataFrame(checked_nodes)\n",
    "random_tsp_route.head()\n",
    "random_tsp_route.to_csv('../Data/RandomRoute.csv')\n",
    "'''"
   ]
  },
  {
   "cell_type": "markdown",
   "metadata": {},
   "source": [
    "### TSP - Greedy Algorithm"
   ]
  },
  {
   "cell_type": "code",
   "execution_count": 772,
   "metadata": {
    "collapsed": true
   },
   "outputs": [],
   "source": [
    "def nearest_node(base_node, nodes, radius = 10000, debug = False):\n",
    "    closest_node = [0]\n",
    "    for a in range(len(nodes)):\n",
    "        base_coord = base_node[1], base_node[2]\n",
    "        local_test = nodes[a][1], nodes[a][2]\n",
    "        dist_test = vincenty(base_coord, local_test).miles\n",
    "        if dist_test <= radius:\n",
    "            radius = dist_test\n",
    "            closest_node[0] = nodes[a]\n",
    "    if debug == True:\n",
    "        print(closest_node)\n",
    "    return closest_node, radius    "
   ]
  },
  {
   "cell_type": "code",
   "execution_count": 806,
   "metadata": {
    "collapsed": false
   },
   "outputs": [
    {
     "name": "stdout",
     "output_type": "stream",
     "text": [
      "Route distance using greedy algorithm is 43.36 miles\n"
     ]
    }
   ],
   "source": [
    "#-----------------------setup---------------------------\n",
    "unchecked_nodes_lat = df.loc[df['AssignedSchool'] == SchoolToShow].NewLat.astype(float)\n",
    "unchecked_nodes_long = df.loc[df['AssignedSchool'] == SchoolToShow].NewLong.astype(float)\n",
    "index = nodes_lat.index\n",
    "\n",
    "#node list: 0 = index and 1 = latitude and 2 = longitude\n",
    "unchecked_nodes = map(lambda i, a, b: [i, a, b], index, unchecked_nodes_lat, unchecked_nodes_long)\n",
    "node_start = [0, df_bus['Bus Yard Latitude'][0], df_bus['Bus Yard Longitude'][0]]\n",
    "node_end = [0, df.loc[df['AssignedSchool'] == SchoolToShow].SchoolLat[index[0]], df.loc[df['AssignedSchool'] == SchoolToShow].SchoolLong[index[0]]]\n",
    "current_node = node_start\n",
    "dist = 0.0\n",
    "checked_nodes = []\n",
    "debug = False\n",
    "#-----------------------test---------------------------\n",
    "\n",
    "\n",
    "while unchecked_nodes:\n",
    "    #nearest_node(current_node, unchecked_nodes) #this will return closet node to current node\n",
    "    next_node, dist_next_node = nearest_node(current_node, unchecked_nodes)\n",
    "    checked_nodes.append(next_node[0])\n",
    "    current_node = next_node[0]\n",
    "    next_node_index = unchecked_nodes.index(next_node[0])\n",
    "    unchecked_nodes.pop(next_node_index)\n",
    "    dist = dist + dist_next_node\n",
    "    if debug == True:\n",
    "        print('Unchecked Nodes', len(unchecked_nodes),\n",
    "         'Checked Nodes', len(checked_nodes),\n",
    "          dist, current_node)\n",
    "print('Route distance using greedy algorithm is %0.2f miles' %dist)         "
   ]
  },
  {
   "cell_type": "code",
   "execution_count": 808,
   "metadata": {
    "collapsed": false
   },
   "outputs": [],
   "source": [
    "'''\n",
    "greedy_tsp_route = pd.DataFrame(checked_nodes)\n",
    "greedy_tsp_route.head()\n",
    "greedy_tsp_route.to_csv('../Data/GreedyRoute.csv')\n",
    "'''"
   ]
  },
  {
   "cell_type": "code",
   "execution_count": null,
   "metadata": {
    "collapsed": true
   },
   "outputs": [],
   "source": []
  }
 ],
 "metadata": {
  "kernelspec": {
   "display_name": "Python 2",
   "language": "python",
   "name": "python2"
  },
  "language_info": {
   "codemirror_mode": {
    "name": "ipython",
    "version": 2
   },
   "file_extension": ".py",
   "mimetype": "text/x-python",
   "name": "python",
   "nbconvert_exporter": "python",
   "pygments_lexer": "ipython2",
   "version": "2.7.13"
  }
 },
 "nbformat": 4,
 "nbformat_minor": 2
}
