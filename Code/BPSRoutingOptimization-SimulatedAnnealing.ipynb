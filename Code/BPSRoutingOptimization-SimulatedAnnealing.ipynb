{
 "cells": [
  {
   "cell_type": "markdown",
   "metadata": {},
   "source": [
    "# BPS Bus Route Optimization"
   ]
  },
  {
   "cell_type": "markdown",
   "metadata": {},
   "source": [
    "### Problem Statement\n",
    "The Boston Public Schools has released an RFP seeking to find a solution to optimize their strategy for student transportation to and from school. \n",
    "\n",
    "From BPS: \"In [2016], transportation costs accounted for \\$110 million or 11% of the district’s budget. On a per pupil basis, BPS’s transportation cost is the second highest and more than five times the average of the largest 200 public school districts.\"\n",
    "\n",
    "In order to make their transporation network more efficient and potentially less costly, BPS has posed the following two challenges.\n",
    "\n",
    "#### Step 1: Optimize Bus Stop Locations \n",
    "\n",
    "We are working to consolidate bus stops to increase efficiency and decrease student ride time, while also ensuring that students are able to walk safely and quickly to a nearby bus stop. Based on where students live, their destination schools, and the type of service required (i.e. Corner Stop, Door to Door, Wheelchair) how will you assign students to a stop?\n",
    "\n",
    "#### Step 2: Improve Routing Efficiencies\n",
    "\n",
    "We are working to get all students to school as quickly as possible in time for the start of the day. Given the location of bus stops, how would you connect these stops to schools over the course of a day creating a full route for a bus that starts and ends at a given bus yard? How will you account for different types of services required (Corner Stop, Door to Door, Wheelchair)?\"\n",
    "\n"
   ]
  },
  {
   "cell_type": "markdown",
   "metadata": {},
   "source": [
    "### Outcome\n",
    "The expected outcome of this project is a modeled system of a minimized number of bus stops and routes that provide efficient transportation for every student to and from school. The system will be measured by comparison to the baseline of the existing BPS transportation system as described below:\n",
    "\n",
    "Scenario | # of required busses |Service hours | Service miles\n",
    "---| ---| ---\n",
    "current BPS system | 630 | 3,600 | 44,500"
   ]
  },
  {
   "cell_type": "markdown",
   "metadata": {},
   "source": [
    "### Approach\n",
    "\n",
    "1 - Bus Stop Optimization: I hypothesize that by reducing the number of bus stops, the number of service hours will reduce, creating a more efficient system. In order to model this, I will look to highly dense areas and students' maximum walking distance to see if any walking radii overlap. If a student's max walking distance overlaps with that of another student, there is a potential for stops to be combined.In order to measure this, I will need to compare my model's stop count to that of the current BPS system.\n",
    "\n",
    "\n",
    "2 - Once I have a list of optimized bus stops for each student, I will need to model the bus routes taken in order to serve each student. To model this, I will look to various algorithms to solve what is commonly known as the 'Traveling Salesman Problem\"\n",
    "\n",
    "    * Random routing algorithm\n",
    "    * Greedy Algorithm\n",
    "    * 2-Opt Swap on the Greedy Algorithm Route\n",
    "    \n",
    "For the purposes of this project, I will only explore the routing for 1 bus serving 1 school. As a continuation of this project, I will look to extend these techniques to the larger system of the Boston School District"
   ]
  },
  {
   "cell_type": "markdown",
   "metadata": {},
   "source": [
    "### The Data\\*\n",
    "\n",
    "BPS has made available a dataset capturing information for 90 schools and nearly 5000 students. The feautres included in the dataset are as follows:\n",
    "\n",
    "Variable | Description | Type of Variable\n",
    "---| ---| ---\n",
    "Street Number | House number of student | continuous integer\n",
    "Street Name |  Name of the street on which the student lives | categorical string\n",
    "Zip Code | Zip Code in which the student lives | categorical integer \n",
    "Latitude | Geodetic coordinate system in decimal degrees | continuous float\n",
    "Longitude | Geodetic coordinate system in decimal degrees | continuous float\n",
    "Pickup Type | Corner or Door-to-Door | categorical string\n",
    "Grade | Grade of the student | categorical integer\n",
    "Geocode | BPS tracks various neighborhoods by census ‘geocodes’ which we use to analyze student neighborhoods | continuous integer\n",
    "Neighborhood Safety Score | Based on amount of reported violent crime in neighborhood -- 7 = high level and 1 represents a low level | categorical integer\n",
    "MaxWalk | Maximum distance student should walk to a stop. Actual walking distance along a common path. Each student will have specific max walking distance based on their grade and rates of reported crime within neighborhood | continuous float\n",
    "Assigned School | School student is required to be transported to and from each day | categorical string\n",
    "Current School Start | Arrive at school between 10-15 minutes before the start of school. While the bus needs to arrive 10-15 minutes before the start of school, the bus should plan to leave at the start of school. This allows time for buses to unload and builds in “recovery time” to account for unexpected delays on the route | time\n",
    "Current School End | Time between school start time and school end time is the length of the school day for that school. Assume all students go home at the end of the day (i.e., they attend no after school activities). As detailed in Appendix 1: Rules of the Road buses should arrive by the school’s end time and leave no later than 15 minutes afterward | time\n",
    "School Address | Full address of school | categorical string\n",
    "School Lat | Geodetic coordinate system in decimal degrees | continuous float\n",
    "School Long | Geodetic coordinate system in decimal degrees | continuous float\n"
   ]
  },
  {
   "cell_type": "markdown",
   "metadata": {},
   "source": [
    "\\* The data provided by BPS is not acutal student information. In order to protect students' safety and privay the data provided by the BPS is only representative of student information."
   ]
  },
  {
   "cell_type": "markdown",
   "metadata": {},
   "source": [
    "### Initial Setup and Package Import"
   ]
  },
  {
   "cell_type": "code",
   "execution_count": 22,
   "metadata": {
    "collapsed": false
   },
   "outputs": [],
   "source": [
    "from __future__ import print_function\n",
    "\n",
    "import matplotlib.pyplot as plt\n",
    "import matplotlib.cm\n",
    "from mpl_toolkits.basemap import Basemap\n",
    "from matplotlib.patches import Polygon\n",
    "from matplotlib.collections import PatchCollection\n",
    "from matplotlib.colors import Normalize\n",
    "\n",
    "import numpy as np\n",
    "import pandas as pd\n",
    "from scipy import stats\n",
    "import seaborn as sns\n",
    "import statsmodels.api as sm\n",
    "from sklearn import metrics\n",
    "import sklearn as sk\n",
    "\n",
    "import warnings\n",
    "warnings.filterwarnings(\"ignore\")\n",
    "\n",
    "from geopy.distance import vincenty\n",
    "\n",
    "%matplotlib inline"
   ]
  },
  {
   "cell_type": "markdown",
   "metadata": {},
   "source": [
    "### Load Data"
   ]
  },
  {
   "cell_type": "markdown",
   "metadata": {},
   "source": [
    "Student Information"
   ]
  },
  {
   "cell_type": "code",
   "execution_count": 23,
   "metadata": {
    "collapsed": false
   },
   "outputs": [],
   "source": [
    "df = pd.read_csv('https://raw.githubusercontent.com/tylershannon/BPS-BusRouteOptimization/master/Data/StopDataModified.csv')"
   ]
  },
  {
   "cell_type": "markdown",
   "metadata": {},
   "source": [
    "Bus Information"
   ]
  },
  {
   "cell_type": "code",
   "execution_count": 24,
   "metadata": {
    "collapsed": true
   },
   "outputs": [],
   "source": [
    "df_busyards = pd.read_csv('https://raw.githubusercontent.com/tylershannon/BPS-BusRouteOptimization/master/Data/BPS-BusYards.csv')"
   ]
  },
  {
   "cell_type": "markdown",
   "metadata": {},
   "source": [
    "# Student Bus Assignments"
   ]
  },
  {
   "cell_type": "code",
   "execution_count": 25,
   "metadata": {
    "collapsed": false
   },
   "outputs": [
    {
     "data": {
      "text/html": [
       "<div>\n",
       "<style>\n",
       "    .dataframe thead tr:only-child th {\n",
       "        text-align: right;\n",
       "    }\n",
       "\n",
       "    .dataframe thead th {\n",
       "        text-align: left;\n",
       "    }\n",
       "\n",
       "    .dataframe tbody tr th {\n",
       "        vertical-align: top;\n",
       "    }\n",
       "</style>\n",
       "<table border=\"1\" class=\"dataframe\">\n",
       "  <thead>\n",
       "    <tr style=\"text-align: right;\">\n",
       "      <th></th>\n",
       "      <th>Unnamed: 0</th>\n",
       "      <th>StreetNum</th>\n",
       "      <th>StreetName</th>\n",
       "      <th>ZipCode</th>\n",
       "      <th>Lat</th>\n",
       "      <th>Long</th>\n",
       "      <th>PickupType</th>\n",
       "      <th>Grade</th>\n",
       "      <th>Geocode</th>\n",
       "      <th>NeighborhoodSafetyScore</th>\n",
       "      <th>MaxWalk</th>\n",
       "      <th>AssignedSchool</th>\n",
       "      <th>CurrentSchoolStart</th>\n",
       "      <th>CurrentSchoolEnd</th>\n",
       "      <th>SchoolAddress</th>\n",
       "      <th>SchoolLat</th>\n",
       "      <th>SchoolLong</th>\n",
       "      <th>StopFlex</th>\n",
       "      <th>NewLat</th>\n",
       "      <th>NewLong</th>\n",
       "    </tr>\n",
       "  </thead>\n",
       "  <tbody>\n",
       "    <tr>\n",
       "      <th>0</th>\n",
       "      <td>0</td>\n",
       "      <td>1</td>\n",
       "      <td>CLAREMONT PK</td>\n",
       "      <td>2118</td>\n",
       "      <td>42.342049</td>\n",
       "      <td>-71.080765</td>\n",
       "      <td>Corner</td>\n",
       "      <td>3</td>\n",
       "      <td>25025070800</td>\n",
       "      <td>3</td>\n",
       "      <td>0.5</td>\n",
       "      <td>Johnny Pesky School</td>\n",
       "      <td>8:30:00 AM</td>\n",
       "      <td>4:00:00 PM</td>\n",
       "      <td>236 Beech St, 02131</td>\n",
       "      <td>42.281233</td>\n",
       "      <td>-71.141075</td>\n",
       "      <td>0.5</td>\n",
       "      <td>42.33743</td>\n",
       "      <td>-71.07521</td>\n",
       "    </tr>\n",
       "    <tr>\n",
       "      <th>1</th>\n",
       "      <td>1</td>\n",
       "      <td>1</td>\n",
       "      <td>DUNFORD ST</td>\n",
       "      <td>2119</td>\n",
       "      <td>42.317420</td>\n",
       "      <td>-71.094550</td>\n",
       "      <td>Corner</td>\n",
       "      <td>1</td>\n",
       "      <td>25025081500</td>\n",
       "      <td>5</td>\n",
       "      <td>0.4</td>\n",
       "      <td>Tris Speaker School</td>\n",
       "      <td>7:30:00 AM</td>\n",
       "      <td>2:10:00 PM</td>\n",
       "      <td>40 Pershing Rd, 02130</td>\n",
       "      <td>42.318999</td>\n",
       "      <td>-71.114084</td>\n",
       "      <td>0.4</td>\n",
       "      <td>42.31448</td>\n",
       "      <td>-71.09417</td>\n",
       "    </tr>\n",
       "    <tr>\n",
       "      <th>2</th>\n",
       "      <td>2</td>\n",
       "      <td>1</td>\n",
       "      <td>ORGAN PARK ST</td>\n",
       "      <td>2131</td>\n",
       "      <td>42.288240</td>\n",
       "      <td>-71.113130</td>\n",
       "      <td>D2D</td>\n",
       "      <td>6</td>\n",
       "      <td>25025110301</td>\n",
       "      <td>4</td>\n",
       "      <td>0.5</td>\n",
       "      <td>John Gorman School</td>\n",
       "      <td>8:30:00 AM</td>\n",
       "      <td>4:00:00 PM</td>\n",
       "      <td>110 Beachview Rd, 02128</td>\n",
       "      <td>42.391629</td>\n",
       "      <td>-71.005053</td>\n",
       "      <td>0.0</td>\n",
       "      <td>42.28824</td>\n",
       "      <td>-71.11313</td>\n",
       "    </tr>\n",
       "    <tr>\n",
       "      <th>3</th>\n",
       "      <td>3</td>\n",
       "      <td>2295</td>\n",
       "      <td>CENTRE ST</td>\n",
       "      <td>2132</td>\n",
       "      <td>42.271750</td>\n",
       "      <td>-71.161770</td>\n",
       "      <td>Corner</td>\n",
       "      <td>1</td>\n",
       "      <td>25025130402</td>\n",
       "      <td>2</td>\n",
       "      <td>0.4</td>\n",
       "      <td>Roger Clemens School</td>\n",
       "      <td>7:30:00 AM</td>\n",
       "      <td>3:00:00 PM</td>\n",
       "      <td>200 Heath St, 02130</td>\n",
       "      <td>42.326009</td>\n",
       "      <td>-71.106552</td>\n",
       "      <td>0.4</td>\n",
       "      <td>42.26925</td>\n",
       "      <td>-71.16656</td>\n",
       "    </tr>\n",
       "    <tr>\n",
       "      <th>4</th>\n",
       "      <td>4</td>\n",
       "      <td>1</td>\n",
       "      <td>WESTINGHOUSE PZ</td>\n",
       "      <td>2136</td>\n",
       "      <td>42.359400</td>\n",
       "      <td>-71.058700</td>\n",
       "      <td>D2D</td>\n",
       "      <td>4</td>\n",
       "      <td>25025030300</td>\n",
       "      <td>7</td>\n",
       "      <td>0.3</td>\n",
       "      <td>Joe Dobson School</td>\n",
       "      <td>8:30:00 AM</td>\n",
       "      <td>4:00:00 PM</td>\n",
       "      <td>61 School St, 02119</td>\n",
       "      <td>42.313946</td>\n",
       "      <td>-71.097867</td>\n",
       "      <td>0.0</td>\n",
       "      <td>42.35940</td>\n",
       "      <td>-71.05870</td>\n",
       "    </tr>\n",
       "  </tbody>\n",
       "</table>\n",
       "</div>"
      ],
      "text/plain": [
       "   Unnamed: 0  StreetNum       StreetName  ZipCode        Lat       Long  \\\n",
       "0           0          1     CLAREMONT PK     2118  42.342049 -71.080765   \n",
       "1           1          1       DUNFORD ST     2119  42.317420 -71.094550   \n",
       "2           2          1    ORGAN PARK ST     2131  42.288240 -71.113130   \n",
       "3           3       2295        CENTRE ST     2132  42.271750 -71.161770   \n",
       "4           4          1  WESTINGHOUSE PZ     2136  42.359400 -71.058700   \n",
       "\n",
       "  PickupType  Grade      Geocode  NeighborhoodSafetyScore  MaxWalk  \\\n",
       "0     Corner      3  25025070800                        3      0.5   \n",
       "1     Corner      1  25025081500                        5      0.4   \n",
       "2        D2D      6  25025110301                        4      0.5   \n",
       "3     Corner      1  25025130402                        2      0.4   \n",
       "4        D2D      4  25025030300                        7      0.3   \n",
       "\n",
       "         AssignedSchool CurrentSchoolStart CurrentSchoolEnd  \\\n",
       "0   Johnny Pesky School         8:30:00 AM       4:00:00 PM   \n",
       "1   Tris Speaker School         7:30:00 AM       2:10:00 PM   \n",
       "2    John Gorman School         8:30:00 AM       4:00:00 PM   \n",
       "3  Roger Clemens School         7:30:00 AM       3:00:00 PM   \n",
       "4     Joe Dobson School         8:30:00 AM       4:00:00 PM   \n",
       "\n",
       "             SchoolAddress  SchoolLat  SchoolLong  StopFlex    NewLat  \\\n",
       "0      236 Beech St, 02131  42.281233  -71.141075       0.5  42.33743   \n",
       "1    40 Pershing Rd, 02130  42.318999  -71.114084       0.4  42.31448   \n",
       "2  110 Beachview Rd, 02128  42.391629  -71.005053       0.0  42.28824   \n",
       "3      200 Heath St, 02130  42.326009  -71.106552       0.4  42.26925   \n",
       "4      61 School St, 02119  42.313946  -71.097867       0.0  42.35940   \n",
       "\n",
       "    NewLong  \n",
       "0 -71.07521  \n",
       "1 -71.09417  \n",
       "2 -71.11313  \n",
       "3 -71.16656  \n",
       "4 -71.05870  "
      ]
     },
     "execution_count": 25,
     "metadata": {},
     "output_type": "execute_result"
    }
   ],
   "source": [
    "df.head()"
   ]
  },
  {
   "cell_type": "code",
   "execution_count": 26,
   "metadata": {
    "collapsed": false
   },
   "outputs": [
    {
     "data": {
      "text/html": [
       "<div>\n",
       "<style>\n",
       "    .dataframe thead tr:only-child th {\n",
       "        text-align: right;\n",
       "    }\n",
       "\n",
       "    .dataframe thead th {\n",
       "        text-align: left;\n",
       "    }\n",
       "\n",
       "    .dataframe tbody tr th {\n",
       "        vertical-align: top;\n",
       "    }\n",
       "</style>\n",
       "<table border=\"1\" class=\"dataframe\">\n",
       "  <thead>\n",
       "    <tr style=\"text-align: right;\">\n",
       "      <th></th>\n",
       "      <th>Bus Number</th>\n",
       "      <th>Bus Yard</th>\n",
       "      <th>Bus Type</th>\n",
       "      <th>Bus Yard Address</th>\n",
       "      <th>Bus Yard Latitude</th>\n",
       "      <th>Bus Yard Longitude</th>\n",
       "    </tr>\n",
       "  </thead>\n",
       "  <tbody>\n",
       "    <tr>\n",
       "      <th>0</th>\n",
       "      <td>B286</td>\n",
       "      <td>Frpt</td>\n",
       "      <td>Full</td>\n",
       "      <td>2000 Washington Street, Boston, MA, 02119</td>\n",
       "      <td>42.333189</td>\n",
       "      <td>-71.080309</td>\n",
       "    </tr>\n",
       "    <tr>\n",
       "      <th>1</th>\n",
       "      <td>B287</td>\n",
       "      <td>Frpt</td>\n",
       "      <td>Full</td>\n",
       "      <td>2000 Washington Street, Boston, MA, 02119</td>\n",
       "      <td>42.333189</td>\n",
       "      <td>-71.080309</td>\n",
       "    </tr>\n",
       "    <tr>\n",
       "      <th>2</th>\n",
       "      <td>B288</td>\n",
       "      <td>Frpt</td>\n",
       "      <td>Full</td>\n",
       "      <td>2000 Washington Street, Boston, MA, 02119</td>\n",
       "      <td>42.333189</td>\n",
       "      <td>-71.080309</td>\n",
       "    </tr>\n",
       "    <tr>\n",
       "      <th>3</th>\n",
       "      <td>B289</td>\n",
       "      <td>Frpt</td>\n",
       "      <td>Full</td>\n",
       "      <td>2000 Washington Street, Boston, MA, 02119</td>\n",
       "      <td>42.333189</td>\n",
       "      <td>-71.080309</td>\n",
       "    </tr>\n",
       "    <tr>\n",
       "      <th>4</th>\n",
       "      <td>B290</td>\n",
       "      <td>Frpt</td>\n",
       "      <td>Full</td>\n",
       "      <td>2000 Washington Street, Boston, MA, 02119</td>\n",
       "      <td>42.333189</td>\n",
       "      <td>-71.080309</td>\n",
       "    </tr>\n",
       "  </tbody>\n",
       "</table>\n",
       "</div>"
      ],
      "text/plain": [
       "  Bus Number Bus Yard Bus Type                           Bus Yard Address  \\\n",
       "0       B286     Frpt     Full  2000 Washington Street, Boston, MA, 02119   \n",
       "1       B287     Frpt     Full  2000 Washington Street, Boston, MA, 02119   \n",
       "2       B288     Frpt     Full  2000 Washington Street, Boston, MA, 02119   \n",
       "3       B289     Frpt     Full  2000 Washington Street, Boston, MA, 02119   \n",
       "4       B290     Frpt     Full  2000 Washington Street, Boston, MA, 02119   \n",
       "\n",
       "   Bus Yard Latitude  Bus Yard Longitude  \n",
       "0          42.333189          -71.080309  \n",
       "1          42.333189          -71.080309  \n",
       "2          42.333189          -71.080309  \n",
       "3          42.333189          -71.080309  \n",
       "4          42.333189          -71.080309  "
      ]
     },
     "execution_count": 26,
     "metadata": {},
     "output_type": "execute_result"
    }
   ],
   "source": [
    "df_busyards.head()"
   ]
  },
  {
   "cell_type": "code",
   "execution_count": 27,
   "metadata": {
    "collapsed": false
   },
   "outputs": [],
   "source": [
    "bus_yard_long = df_busyards['Bus Yard Longitude'].unique()\n",
    "bus_yard_lat = df_busyards['Bus Yard Latitude'].unique()\n",
    "SchoolToShow = 'Reggie Smith School'"
   ]
  },
  {
   "cell_type": "code",
   "execution_count": 28,
   "metadata": {
    "collapsed": false
   },
   "outputs": [
    {
     "data": {
      "text/html": [
       "<div>\n",
       "<style>\n",
       "    .dataframe thead tr:only-child th {\n",
       "        text-align: right;\n",
       "    }\n",
       "\n",
       "    .dataframe thead th {\n",
       "        text-align: left;\n",
       "    }\n",
       "\n",
       "    .dataframe tbody tr th {\n",
       "        vertical-align: top;\n",
       "    }\n",
       "</style>\n",
       "<table border=\"1\" class=\"dataframe\">\n",
       "  <thead>\n",
       "    <tr style=\"text-align: right;\">\n",
       "      <th></th>\n",
       "      <th>Bus Yard Latitude</th>\n",
       "      <th>Bus Yard Longitude</th>\n",
       "    </tr>\n",
       "  </thead>\n",
       "  <tbody>\n",
       "    <tr>\n",
       "      <th>0</th>\n",
       "      <td>42.333189</td>\n",
       "      <td>-71.080309</td>\n",
       "    </tr>\n",
       "    <tr>\n",
       "      <th>1</th>\n",
       "      <td>42.307069</td>\n",
       "      <td>-71.057577</td>\n",
       "    </tr>\n",
       "    <tr>\n",
       "      <th>2</th>\n",
       "      <td>42.237390</td>\n",
       "      <td>-71.139795</td>\n",
       "    </tr>\n",
       "    <tr>\n",
       "      <th>3</th>\n",
       "      <td>42.382205</td>\n",
       "      <td>-71.075801</td>\n",
       "    </tr>\n",
       "  </tbody>\n",
       "</table>\n",
       "</div>"
      ],
      "text/plain": [
       "   Bus Yard Latitude  Bus Yard Longitude\n",
       "0          42.333189          -71.080309\n",
       "1          42.307069          -71.057577\n",
       "2          42.237390          -71.139795\n",
       "3          42.382205          -71.075801"
      ]
     },
     "execution_count": 28,
     "metadata": {},
     "output_type": "execute_result"
    }
   ],
   "source": [
    "df_bus = df_busyards.copy(deep=True)\n",
    "df_bus.drop_duplicates(subset = 'Bus Yard Address', inplace = True)\n",
    "df_bus.drop(df_bus.columns[0:4], axis = 1, inplace = True)\n",
    "df_bus.reset_index(inplace = True)\n",
    "df_bus.drop(df_bus.columns[0], axis = 1, inplace = True)\n",
    "df_bus"
   ]
  },
  {
   "cell_type": "markdown",
   "metadata": {},
   "source": [
    "# Traveling Salesman Problem"
   ]
  },
  {
   "cell_type": "markdown",
   "metadata": {},
   "source": [
    "### Setup variables and node lists"
   ]
  },
  {
   "cell_type": "markdown",
   "metadata": {},
   "source": [
    "### TSP - Simulated Annealing"
   ]
  },
  {
   "cell_type": "markdown",
   "metadata": {},
   "source": [
    "<img src=\"SA-Pseudocode.png\",width=800,height=800>"
   ]
  },
  {
   "cell_type": "code",
   "execution_count": 264,
   "metadata": {
    "collapsed": false
   },
   "outputs": [],
   "source": [
    "from random import random\n",
    "from random import randint\n",
    "import math\n",
    "#from bigfloat import *\n",
    "\n",
    "def round_figures(x, n):\n",
    "    \"\"\"Returns x rounded to n significant figures.\"\"\"\n",
    "    return round(x, int(n - math.ceil(math.log10(abs(x)))))\n",
    "\n",
    "#define function for cost. In this case, cost is the distance traveled\n",
    "def cost(nodes, debug = False):\n",
    "    cost = 0\n",
    "    for a in range(len(nodes)-1):\n",
    "        current_node = nodes[a]\n",
    "        next_node = nodes[a+1]\n",
    "        base_coord = current_node[1], current_node[2]\n",
    "        local_test = next_node[1], next_node[2]\n",
    "        dist_test = vincenty(base_coord, local_test).miles\n",
    "        cost = cost + dist_test\n",
    "    if debug == True:\n",
    "        print(current_node)\n",
    "    return cost \n",
    "    \n",
    "#define function for generating a random neighboring solution\n",
    "def neighbor(nodes):\n",
    "    test_list = nodes\n",
    "    index_a = randint(1,len(test_list)-2)\n",
    "    index_b = index_a +1 #randint(1,len(test_list)-2)\n",
    "    test_list[index_a], test_list[index_b] = test_list[index_b], test_list[index_a]\n",
    "    return test_list\n",
    "    \n",
    "#define function for acceptance probability\n",
    "def acceptance_probability(old_cost, new_cost, temp):\n",
    "    e = 2.71828\n",
    "    exponent = round_figures((old_cost - new_cost)/temp, 3)\n",
    "    a = e**(exponent)\n",
    "    return a\n",
    "        \n",
    "#define function for simulated annealing\n",
    "def anneal(solution):\n",
    "    old_cost = cost(solution)\n",
    "    T = 1.0 #temperature\n",
    "    T_min = 0.00001\n",
    "    alpha = 0.9 #temperature reduction coefficient\n",
    "    while T > T_min:\n",
    "        i = 1\n",
    "        while i <= 100:\n",
    "            new_solution = neighbor(solution)\n",
    "            new_cost = cost(new_solution)\n",
    "            ap = acceptance_probability(old_cost, new_cost, T)\n",
    "            if ap > random():\n",
    "                solution = new_solution\n",
    "                old_cost = new_cost\n",
    "            i += 1\n",
    "        T = T*alpha\n",
    "        #print(old_cost, T)\n",
    "    return solution, old_cost"
   ]
  },
  {
   "cell_type": "code",
   "execution_count": 265,
   "metadata": {
    "collapsed": false
   },
   "outputs": [],
   "source": [
    "#-----------------------setup---------------------------\n",
    "unchecked_nodes_lat = df.loc[df['AssignedSchool'] == SchoolToShow].NewLat.astype(float)\n",
    "unchecked_nodes_long = df.loc[df['AssignedSchool'] == SchoolToShow].NewLong.astype(float)\n",
    "index = unchecked_nodes_lat.index\n",
    "\n",
    "#node list: 0 = index and 1 = latitude and 2 = longitude\n",
    "unchecked_nodes = map(lambda i, a, b: [i, a, b], index, unchecked_nodes_lat, unchecked_nodes_long)\n",
    "node_start = [0, df_bus['Bus Yard Latitude'][0], df_bus['Bus Yard Longitude'][0]]\n",
    "node_end = [0, df.loc[df['AssignedSchool'] == SchoolToShow].SchoolLat[index[0]], df.loc[df['AssignedSchool'] == SchoolToShow].SchoolLong[index[0]]]\n",
    "current_node = node_start\n",
    "dist = 0.0\n",
    "checked_nodes = []\n",
    "debug = False\n",
    "#-----------------------test---------------------------"
   ]
  },
  {
   "cell_type": "code",
   "execution_count": 263,
   "metadata": {
    "collapsed": false
   },
   "outputs": [],
   "source": [
    "#unchecked_nodes, cost = anneal(unchecked_nodes)"
   ]
  },
  {
   "cell_type": "code",
   "execution_count": null,
   "metadata": {
    "collapsed": false
   },
   "outputs": [],
   "source": []
  },
  {
   "cell_type": "code",
   "execution_count": null,
   "metadata": {
    "collapsed": true
   },
   "outputs": [],
   "source": []
  }
 ],
 "metadata": {
  "kernelspec": {
   "display_name": "Python 2",
   "language": "python",
   "name": "python2"
  },
  "language_info": {
   "codemirror_mode": {
    "name": "ipython",
    "version": 2
   },
   "file_extension": ".py",
   "mimetype": "text/x-python",
   "name": "python",
   "nbconvert_exporter": "python",
   "pygments_lexer": "ipython2",
   "version": "2.7.13"
  }
 },
 "nbformat": 4,
 "nbformat_minor": 2
}
